{
 "cells": [
  {
   "cell_type": "markdown",
   "metadata": {},
   "source": [
    "What this notebook contain:\n",
    "1. reading data from zip file\n",
    "2. sampling data for class that have one sample in data\n",
    "3. splitting data into training (80%)  and test (20%)\n",
    "4. preprocessing\n",
    "    a. lowercase\n",
    "    b. tokenizing using word_tokenize by nltk\n",
    "    c. remove stop words\n",
    "    d. lemmatization\n",
    "    e. remove empty element\n",
    "    f. remove periods element\n",
    "5. vocabulary creation: contain all words in corbus without duplicates"
   ]
  },
  {
   "cell_type": "code",
   "execution_count": 4,
   "metadata": {},
   "outputs": [],
   "source": [
    "# Install required third-party libraries\n",
    "# !pip install nltk\n",
    "\n",
    "# Download necessary nltk data\n",
    "# nltk.download('stopwords')\n",
    "\n",
    "import zipfile\n",
    "import pandas as pd\n",
    "import numpy as np\n",
    "\n",
    "import seaborn as sns\n",
    "import matplotlib.pyplot as plt\n",
    "sns.set_style(\"dark\")\n",
    "\n",
    "import re\n",
    "\n",
    "from nltk.corpus import stopwords\n",
    "from nltk.stem import WordNetLemmatizer\n",
    "from nltk.tokenize import word_tokenize\n",
    "from sklearn.model_selection import train_test_split\n",
    "\n",
    "stop_words_nltk = set(stopwords.words('english'))\n",
    "lemmatizer = WordNetLemmatizer()"
   ]
  },
  {
   "cell_type": "markdown",
   "metadata": {},
   "source": [
    "# Reading data"
   ]
  },
  {
   "cell_type": "code",
   "execution_count": 5,
   "metadata": {},
   "outputs": [
    {
     "data": {
      "text/html": [
       "<div>\n",
       "<style scoped>\n",
       "    .dataframe tbody tr th:only-of-type {\n",
       "        vertical-align: middle;\n",
       "    }\n",
       "\n",
       "    .dataframe tbody tr th {\n",
       "        vertical-align: top;\n",
       "    }\n",
       "\n",
       "    .dataframe thead th {\n",
       "        text-align: right;\n",
       "    }\n",
       "</style>\n",
       "<table border=\"1\" class=\"dataframe\">\n",
       "  <thead>\n",
       "    <tr style=\"text-align: right;\">\n",
       "      <th></th>\n",
       "      <th>content</th>\n",
       "      <th>category</th>\n",
       "    </tr>\n",
       "  </thead>\n",
       "  <tbody>\n",
       "    <tr>\n",
       "      <th>0</th>\n",
       "      <td>\\n\\r\\nTHAI TIN EXPORTS FALL IN FEBRUARY\\r\\n\\n ...</td>\n",
       "      <td>tin</td>\n",
       "    </tr>\n",
       "    <tr>\n",
       "      <th>1</th>\n",
       "      <td>\\n\\r\\nZAIRE ACCEPTS TIN-EXPORT QUOTA, ATPC SAY...</td>\n",
       "      <td>tin</td>\n",
       "    </tr>\n",
       "    <tr>\n",
       "      <th>2</th>\n",
       "      <td>\\n\\r\\nECONOMIC SPOTLIGHT - BOLIVIA\\r\\n\\n&lt;AUTHO...</td>\n",
       "      <td>tin</td>\n",
       "    </tr>\n",
       "    <tr>\n",
       "      <th>3</th>\n",
       "      <td>\\n\\r\\nTHAI TIN EXPORTS RISE IN JANUARY\\r\\n\\n  ...</td>\n",
       "      <td>tin</td>\n",
       "    </tr>\n",
       "    <tr>\n",
       "      <th>4</th>\n",
       "      <td>\\n\\r\\nTIN PACT EXTENSION LIKELY - ITC DELEGATE...</td>\n",
       "      <td>tin</td>\n",
       "    </tr>\n",
       "    <tr>\n",
       "      <th>...</th>\n",
       "      <td>...</td>\n",
       "      <td>...</td>\n",
       "    </tr>\n",
       "    <tr>\n",
       "      <th>11408</th>\n",
       "      <td>\\n\\r\\nU.K. CREDIT BUSINESS FALLS IN JANUARY\\r\\...</td>\n",
       "      <td>instal-debt</td>\n",
       "    </tr>\n",
       "    <tr>\n",
       "      <th>11409</th>\n",
       "      <td>\\n\\r\\nU.S. CONSUMER CREDIT ROSE 1.77 BILLION D...</td>\n",
       "      <td>instal-debt</td>\n",
       "    </tr>\n",
       "    <tr>\n",
       "      <th>11410</th>\n",
       "      <td>\\n\\r\\nU.S. FEB CONSUMER CREDIT ROSE 1.77 BILLI...</td>\n",
       "      <td>instal-debt</td>\n",
       "    </tr>\n",
       "    <tr>\n",
       "      <th>11411</th>\n",
       "      <td>\\n\\r\\nU.S. CONSUMER CREDIT ROSE 536 MLN DLRS I...</td>\n",
       "      <td>instal-debt</td>\n",
       "    </tr>\n",
       "    <tr>\n",
       "      <th>11412</th>\n",
       "      <td>\\n\\r\\nU.S. CONSUMER CREDIT ROSE 536 MILLION DL...</td>\n",
       "      <td>instal-debt</td>\n",
       "    </tr>\n",
       "  </tbody>\n",
       "</table>\n",
       "<p>11413 rows × 2 columns</p>\n",
       "</div>"
      ],
      "text/plain": [
       "                                                 content     category\n",
       "0      \\n\\r\\nTHAI TIN EXPORTS FALL IN FEBRUARY\\r\\n\\n ...          tin\n",
       "1      \\n\\r\\nZAIRE ACCEPTS TIN-EXPORT QUOTA, ATPC SAY...          tin\n",
       "2      \\n\\r\\nECONOMIC SPOTLIGHT - BOLIVIA\\r\\n\\n<AUTHO...          tin\n",
       "3      \\n\\r\\nTHAI TIN EXPORTS RISE IN JANUARY\\r\\n\\n  ...          tin\n",
       "4      \\n\\r\\nTIN PACT EXTENSION LIKELY - ITC DELEGATE...          tin\n",
       "...                                                  ...          ...\n",
       "11408  \\n\\r\\nU.K. CREDIT BUSINESS FALLS IN JANUARY\\r\\...  instal-debt\n",
       "11409  \\n\\r\\nU.S. CONSUMER CREDIT ROSE 1.77 BILLION D...  instal-debt\n",
       "11410  \\n\\r\\nU.S. FEB CONSUMER CREDIT ROSE 1.77 BILLI...  instal-debt\n",
       "11411  \\n\\r\\nU.S. CONSUMER CREDIT ROSE 536 MLN DLRS I...  instal-debt\n",
       "11412  \\n\\r\\nU.S. CONSUMER CREDIT ROSE 536 MILLION DL...  instal-debt\n",
       "\n",
       "[11413 rows x 2 columns]"
      ]
     },
     "execution_count": 5,
     "metadata": {},
     "output_type": "execute_result"
    }
   ],
   "source": [
    "data = []\n",
    "\n",
    "with zipfile.ZipFile(\"../data/training.zip\", 'r') as z:\n",
    "    for file_info in z.infolist():\n",
    "        file_name = file_info.filename\n",
    "        parts = file_name.strip().split('/')\n",
    "        if parts[0] == 'training' and parts[-1] != '':\n",
    "            with z.open(file_name) as file:\n",
    "                content = file.read().decode('utf-8', errors='replace')\n",
    "                data.append({'content': content, 'category': parts[1]})\n",
    "\n",
    "data = pd.DataFrame(data)\n",
    "data"
   ]
  },
  {
   "cell_type": "markdown",
   "metadata": {},
   "source": [
    "# Splitting data\n",
    "I will splitting data to train, dev, and test sets, ensuring all have same distribution. "
   ]
  },
  {
   "cell_type": "code",
   "execution_count": 7,
   "metadata": {},
   "outputs": [],
   "source": [
    "# splitting occuring an error:\n",
    "# ValueError: The least populated class in y has only 1 member, which is too few. The minimum number of groups for any class cannot be less than 2.\n",
    "# So I will duplicate the single instance\n",
    "\n",
    "def sampling_data(data) -> pd.DataFrame:\n",
    "    \"\"\"Perform data sampling to address class imbalance in a dataset.\n",
    "\n",
    "    Args:\n",
    "        data (pd.DataFrame): The dataset to be sampled. \n",
    "        It must contain a 'category' column indicating the class labels.\n",
    "\n",
    "    Returns:\n",
    "        pd.DataFrame: A DataFrame containing the original data with additional \n",
    "        instances of minority class samples appended.\n",
    "    \"\"\"\n",
    "    df_minority = data[data['category'].map(data['category'].value_counts()) == 1]\n",
    "    return pd.concat([data, df_minority])\n",
    "\n",
    "\n",
    "data = sampling_data(data)"
   ]
  },
  {
   "cell_type": "code",
   "execution_count": 8,
   "metadata": {},
   "outputs": [
    {
     "data": {
      "text/plain": [
       "(11420, 2)"
      ]
     },
     "execution_count": 8,
     "metadata": {},
     "output_type": "execute_result"
    }
   ],
   "source": [
    "data.shape"
   ]
  },
  {
   "cell_type": "code",
   "execution_count": 9,
   "metadata": {},
   "outputs": [],
   "source": [
    "def split_create_dfs(X, y) -> tuple:\n",
    "    \"\"\"Split the data into training and testing sets and create DataFrames for each set.\n",
    "\n",
    "    Args:\n",
    "        X (DataFrame): The feature data.\n",
    "        y (DataFrame): The target data.\n",
    "        dist (bool, optional): If True, print class distribution information for each set. Defaults to False.\n",
    "\n",
    "    Returns:\n",
    "        tuple: A tuple containing the following elements in order:\n",
    "            - train_data (DataFrame): DataFrame containing content, file_name, and category for the training set.\n",
    "            - test_data (DataFrame): DataFrame containing content, file_name, and category for the testing set.\n",
    "    \"\"\"\n",
    "    # Split the data into training (60%) and test (20%)\n",
    "    X_train, X_test, y_train, y_test = train_test_split(X, y, test_size=0.2, random_state=42, stratify=y)\n",
    "    \n",
    "    # combine the content and category again into a DataFrame for each set:\n",
    "    train_data = pd.DataFrame({'content': X_train, 'category': y_train})\n",
    "    test_data = pd.DataFrame({'content': X_test, 'category': y_test})\n",
    "    \n",
    "    return train_data, test_data\n",
    "\n",
    "train_data, test_data = split_create_dfs(X=data['content'], y=data['category'])"
   ]
  },
  {
   "cell_type": "code",
   "execution_count": 10,
   "metadata": {},
   "outputs": [
    {
     "data": {
      "image/png": "[encoded data removed]",
      "text/plain": [
       "<Figure size 1800x800 with 2 Axes>"
      ]
     },
     "metadata": {},
     "output_type": "display_data"
    }
   ],
   "source": [
    "# Visualize the class distribution in y_train and y_test\n",
    "plt.figure(figsize=(18, 8))\n",
    "\n",
    "# Plot for y_train\n",
    "plt.subplot(1, 2, 1)\n",
    "sns.countplot(data=train_data, x='category', palette='muted', order=train_data['category'].value_counts().index)\n",
    "plt.title('Training Set Class Distribution')\n",
    "plt.xticks(rotation=90, fontsize=8)\n",
    "\n",
    "# Plot for y_test\n",
    "plt.subplot(1, 2, 2)\n",
    "sns.countplot(data=test_data, x='category', palette='pastel', order=test_data['category'].value_counts().index)\n",
    "plt.title('Testing Set Class Distribution')\n",
    "plt.xticks(rotation=90, fontsize=8) \n",
    "\n",
    "plt.show()"
   ]
  },
  {
   "cell_type": "markdown",
   "metadata": {},
   "source": [
    "I will contonue with training dataset"
   ]
  },
  {
   "cell_type": "markdown",
   "metadata": {},
   "source": [
    "# Preprocessing"
   ]
  },
  {
   "cell_type": "code",
   "execution_count": 11,
   "metadata": {},
   "outputs": [
    {
     "data": {
      "text/html": [
       "<div>\n",
       "<style scoped>\n",
       "    .dataframe tbody tr th:only-of-type {\n",
       "        vertical-align: middle;\n",
       "    }\n",
       "\n",
       "    .dataframe tbody tr th {\n",
       "        vertical-align: top;\n",
       "    }\n",
       "\n",
       "    .dataframe thead th {\n",
       "        text-align: right;\n",
       "    }\n",
       "</style>\n",
       "<table border=\"1\" class=\"dataframe\">\n",
       "  <thead>\n",
       "    <tr style=\"text-align: right;\">\n",
       "      <th></th>\n",
       "      <th>content</th>\n",
       "      <th>category</th>\n",
       "    </tr>\n",
       "  </thead>\n",
       "  <tbody>\n",
       "    <tr>\n",
       "      <th>228</th>\n",
       "      <td>\\n\\r\\nFED DATA INDICATE NO POLICY CHANGE LIKEL...</td>\n",
       "      <td>interest</td>\n",
       "    </tr>\n",
       "    <tr>\n",
       "      <th>5020</th>\n",
       "      <td>\\n\\r\\nVOLCKER URGES GREATER EXCHANGE RATE STAB...</td>\n",
       "      <td>money-fx</td>\n",
       "    </tr>\n",
       "    <tr>\n",
       "      <th>7126</th>\n",
       "      <td>\\n SAY NEW DOW COMPONENTS AID AVERAGE\\r\\n\\n   ...</td>\n",
       "      <td>unknown</td>\n",
       "    </tr>\n",
       "    <tr>\n",
       "      <th>6823</th>\n",
       "      <td>\\n\\r\\nEGYPT REJECTS VEG OIL OFFERS, TO RETENDE...</td>\n",
       "      <td>sun-oil</td>\n",
       "    </tr>\n",
       "    <tr>\n",
       "      <th>6785</th>\n",
       "      <td>\\n\\r\\nU.S. SAID PROMISED BULK OF MAIZE EXPORT ...</td>\n",
       "      <td>corn</td>\n",
       "    </tr>\n",
       "    <tr>\n",
       "      <th>...</th>\n",
       "      <td>...</td>\n",
       "      <td>...</td>\n",
       "    </tr>\n",
       "    <tr>\n",
       "      <th>2530</th>\n",
       "      <td>\\n\\r\\nHOLLY SUGAR CORP &lt;HLY&gt; SETS REGULAR DIVI...</td>\n",
       "      <td>earn</td>\n",
       "    </tr>\n",
       "    <tr>\n",
       "      <th>1690</th>\n",
       "      <td>\\n\\r\\nOREGON LUMBER COMPANY TO SELL WOOD TO IR...</td>\n",
       "      <td>lumber</td>\n",
       "    </tr>\n",
       "    <tr>\n",
       "      <th>6752</th>\n",
       "      <td>\\n\\r\\nUSSR CORN BUYING MAY BE 3.5 MLN TONNES--...</td>\n",
       "      <td>corn</td>\n",
       "    </tr>\n",
       "    <tr>\n",
       "      <th>5849</th>\n",
       "      <td>\\n\\r\\nMORE HEAVY RAINS IN ARGENTINE GRAIN AREA...</td>\n",
       "      <td>grain</td>\n",
       "    </tr>\n",
       "    <tr>\n",
       "      <th>309</th>\n",
       "      <td>\\n\\r\\nFED EXPECTED TO ADD RESERVES\\r\\n\\n    NE...</td>\n",
       "      <td>interest</td>\n",
       "    </tr>\n",
       "  </tbody>\n",
       "</table>\n",
       "<p>9136 rows × 2 columns</p>\n",
       "</div>"
      ],
      "text/plain": [
       "                                                content  category\n",
       "228   \\n\\r\\nFED DATA INDICATE NO POLICY CHANGE LIKEL...  interest\n",
       "5020  \\n\\r\\nVOLCKER URGES GREATER EXCHANGE RATE STAB...  money-fx\n",
       "7126  \\n SAY NEW DOW COMPONENTS AID AVERAGE\\r\\n\\n   ...   unknown\n",
       "6823  \\n\\r\\nEGYPT REJECTS VEG OIL OFFERS, TO RETENDE...   sun-oil\n",
       "6785  \\n\\r\\nU.S. SAID PROMISED BULK OF MAIZE EXPORT ...      corn\n",
       "...                                                 ...       ...\n",
       "2530  \\n\\r\\nHOLLY SUGAR CORP <HLY> SETS REGULAR DIVI...      earn\n",
       "1690  \\n\\r\\nOREGON LUMBER COMPANY TO SELL WOOD TO IR...    lumber\n",
       "6752  \\n\\r\\nUSSR CORN BUYING MAY BE 3.5 MLN TONNES--...      corn\n",
       "5849  \\n\\r\\nMORE HEAVY RAINS IN ARGENTINE GRAIN AREA...     grain\n",
       "309   \\n\\r\\nFED EXPECTED TO ADD RESERVES\\r\\n\\n    NE...  interest\n",
       "\n",
       "[9136 rows x 2 columns]"
      ]
     },
     "execution_count": 11,
     "metadata": {},
     "output_type": "execute_result"
    }
   ],
   "source": [
    "train_data"
   ]
  },
  {
   "cell_type": "code",
   "execution_count": 12,
   "metadata": {},
   "outputs": [],
   "source": [
    "# remove any escape code\n",
    "def reorganize_data(content_data) -> list:\n",
    "    \"\"\"Reorganize content and file name data.\n",
    "\n",
    "    Args:\n",
    "        content_data (Series): The data representing content.\n",
    "\n",
    "    Returns:\n",
    "        list: A list containing the reorganized content data.\n",
    "    \"\"\"\n",
    "    content_data = content_data.str.replace(r'\\s+', ' ', regex=True).str.strip()\n",
    "    \n",
    "    return content_data\n",
    "\n",
    "\n",
    "train_data['content'] = reorganize_data(train_data['content'])"
   ]
  },
  {
   "cell_type": "code",
   "execution_count": 13,
   "metadata": {},
   "outputs": [
    {
     "name": "stdout",
     "output_type": "stream",
     "text": [
      "CORP <HIA> TO REDEEM TWO BOND ISSUES NEW YORK, March 2 - Holiday Corp said it would redeem on March 11 all outstanding 9-1/2 pct first mortgage bonds due 1995 of its Holiday Inns Inc unit and all 9-1/2 pct first mortgage bonds, Series A, due 1996 of its Harrah's subsidiary. The Holiday bonds will be bought back at 101.6 pct of the bonds' principal amount plus accrued interest, or 1,038.69 dlrs per 1,000 dlr face amount. Holiday will redeem the Harrah's bonds at 104.5 pct of the principal amount plus accrued interest, or 1,079.31 dlrs per 1,000 dlr face amount.\n"
     ]
    }
   ],
   "source": [
    "print(train_data.content[7111])"
   ]
  },
  {
   "cell_type": "markdown",
   "metadata": {},
   "source": [
    "## Lowercasing"
   ]
  },
  {
   "cell_type": "code",
   "execution_count": 14,
   "metadata": {},
   "outputs": [
    {
     "data": {
      "text/plain": [
       "228     fed data indicate no policy change likely <aut...\n",
       "5020    volcker urges greater exchange rate stability ...\n",
       "7126    say new dow components aid average new york, m...\n",
       "6823    egypt rejects veg oil offers, to retender lond...\n",
       "6785    u.s. said promised bulk of maize export to spa...\n",
       "                              ...                        \n",
       "2530    holly sugar corp <hly> sets regular dividend c...\n",
       "1690    oregon lumber company to sell wood to iraq por...\n",
       "6752    ussr corn buying may be 3.5 mln tonnes--amstut...\n",
       "5849    more heavy rains in argentine grain areas <aut...\n",
       "309     fed expected to add reserves new york, march 2...\n",
       "Name: lowercasing, Length: 9136, dtype: object"
      ]
     },
     "execution_count": 14,
     "metadata": {},
     "output_type": "execute_result"
    }
   ],
   "source": [
    "def lowercase_text(text) -> str:\n",
    "    \"\"\"Convert a string to lowercase.\n",
    "    \n",
    "    Args:\n",
    "        text (str): The text to be converted.\n",
    "    \n",
    "    Returns:\n",
    "        str: The converted lowercase string.\n",
    "    \"\"\"\n",
    "    return text.lower()\n",
    "\n",
    "train_data['lowercasing'] = train_data['content'].apply(lowercase_text)\n",
    "train_data['lowercasing']"
   ]
  },
  {
   "cell_type": "markdown",
   "metadata": {},
   "source": [
    "## Tokenize text"
   ]
  },
  {
   "cell_type": "code",
   "execution_count": 15,
   "metadata": {},
   "outputs": [],
   "source": [
    "def tokenize_text(row) -> list:\n",
    "    \"\"\"Tokenize a string into words.\n",
    "    \n",
    "    Args:\n",
    "        row (str): The text to be tokenized.\n",
    "    \n",
    "    Returns:\n",
    "        list: A list of words from the tokenized text.\n",
    "    \"\"\"\n",
    "    return word_tokenize(row)\n",
    "\n",
    "train_data['tokenized'] = train_data['lowercasing'].apply(tokenize_text)"
   ]
  },
  {
   "cell_type": "code",
   "execution_count": 16,
   "metadata": {},
   "outputs": [
    {
     "data": {
      "text/plain": [
       "228     [fed, data, indicate, no, policy, change, like...\n",
       "5020    [volcker, urges, greater, exchange, rate, stab...\n",
       "7126    [say, new, dow, components, aid, average, new,...\n",
       "6823    [egypt, rejects, veg, oil, offers, ,, to, rete...\n",
       "6785    [u.s., said, promised, bulk, of, maize, export...\n",
       "                              ...                        \n",
       "2530    [holly, sugar, corp, <, hly, >, sets, regular,...\n",
       "1690    [oregon, lumber, company, to, sell, wood, to, ...\n",
       "6752    [ussr, corn, buying, may, be, 3.5, mln, tonnes...\n",
       "5849    [more, heavy, rains, in, argentine, grain, are...\n",
       "309     [fed, expected, to, add, reserves, new, york, ...\n",
       "Name: tokenized, Length: 9136, dtype: object"
      ]
     },
     "execution_count": 16,
     "metadata": {},
     "output_type": "execute_result"
    }
   ],
   "source": [
    "train_data['tokenized']"
   ]
  },
  {
   "cell_type": "code",
   "execution_count": 17,
   "metadata": {},
   "outputs": [
    {
     "data": {
      "text/plain": [
       "228     [fed, data, indicate, no, policy, change, like...\n",
       "5020    [volcker, urges, greater, exchange, rate, stab...\n",
       "7126    [say, new, dow, components, aid, average, new,...\n",
       "6823    [egypt, rejects, veg, oil, offers, , to, reten...\n",
       "6785    [u.s., said, promised, bulk, of, maize, export...\n",
       "                              ...                        \n",
       "2530    [holly, sugar, corp, , hly, , sets, regular, d...\n",
       "1690    [oregon, lumber, company, to, sell, wood, to, ...\n",
       "6752    [ussr, corn, buying, may, be, 3.5, mln, tonnes...\n",
       "5849    [more, heavy, rains, in, argentine, grain, are...\n",
       "309     [fed, expected, to, add, reserves, new, york, ...\n",
       "Name: clean_special, Length: 9136, dtype: object"
      ]
     },
     "execution_count": 17,
     "metadata": {},
     "output_type": "execute_result"
    }
   ],
   "source": [
    "def remove_special_chars(words) -> list:\n",
    "    \"\"\"Remove special characters from each word in a list of words.\n",
    "    \n",
    "    Args:\n",
    "        words (list): A list of words to process.\n",
    "    \n",
    "    Returns:\n",
    "        list: A list of words with special characters removed.\n",
    "    \"\"\"\n",
    "    pattern = re.compile(r'[^\\w.]+|(\\'s)+')\n",
    "    return [re.sub(pattern, '', word) for word in words]\n",
    "\n",
    "train_data['clean_special'] = train_data['tokenized'].apply(remove_special_chars)\n",
    "train_data['clean_special']"
   ]
  },
  {
   "cell_type": "markdown",
   "metadata": {},
   "source": [
    "## Stop Words Removal"
   ]
  },
  {
   "cell_type": "code",
   "execution_count": 18,
   "metadata": {},
   "outputs": [],
   "source": [
    "def remove_stopword(content) -> str:\n",
    "    \"\"\"Remove stopwords from a list of words.\n",
    "    \n",
    "    Args:\n",
    "        content (list): A list of words from which stopwords are to be removed.\n",
    "    \n",
    "    Returns:\n",
    "        list: A list of words with stopwords removed.\n",
    "    \"\"\"\n",
    "    return [word for word in content if word not in stop_words_nltk]\n",
    "\n",
    "train_data['clean_stopwords'] = train_data['clean_special'].apply(remove_stopword)"
   ]
  },
  {
   "cell_type": "code",
   "execution_count": 19,
   "metadata": {},
   "outputs": [
    {
     "data": {
      "text/plain": [
       "228     [fed, data, indicate, policy, change, likely, ...\n",
       "5020    [volcker, urges, greater, exchange, rate, stab...\n",
       "7126    [say, new, dow, components, aid, average, new,...\n",
       "6823    [egypt, rejects, veg, oil, offers, , retender,...\n",
       "6785    [u.s., said, promised, bulk, maize, export, sp...\n",
       "                              ...                        \n",
       "2530    [holly, sugar, corp, , hly, , sets, regular, d...\n",
       "1690    [oregon, lumber, company, sell, wood, iraq, po...\n",
       "6752    [ussr, corn, buying, may, 3.5, mln, tonnes, , ...\n",
       "5849    [heavy, rains, argentine, grain, areas, , auth...\n",
       "309     [fed, expected, add, reserves, new, york, , ma...\n",
       "Name: clean_stopwords, Length: 9136, dtype: object"
      ]
     },
     "execution_count": 19,
     "metadata": {},
     "output_type": "execute_result"
    }
   ],
   "source": [
    "train_data['clean_stopwords']"
   ]
  },
  {
   "cell_type": "markdown",
   "metadata": {},
   "source": [
    "## Lemmatization"
   ]
  },
  {
   "cell_type": "code",
   "execution_count": 20,
   "metadata": {},
   "outputs": [],
   "source": [
    "def lemmatize_sentence(sentence) -> list:\n",
    "    \"\"\"Lemmatize each word in a list of words.\n",
    "    \n",
    "    Args:\n",
    "        sentence (list): A list of words to be lemmatized.\n",
    "    \n",
    "    Returns:\n",
    "        list: A list of lemmatized words.\n",
    "    \"\"\"\n",
    "    return [lemmatizer.lemmatize(word) for word in sentence]\n",
    "\n",
    "train_data['lemmatized'] = train_data['clean_stopwords'].apply(lemmatize_sentence)"
   ]
  },
  {
   "cell_type": "code",
   "execution_count": 21,
   "metadata": {},
   "outputs": [
    {
     "data": {
      "text/plain": [
       "228     [fed, data, indicate, policy, change, likely, ...\n",
       "5020    [volcker, urge, greater, exchange, rate, stabi...\n",
       "7126    [say, new, dow, component, aid, average, new, ...\n",
       "6823    [egypt, reject, veg, oil, offer, , retender, l...\n",
       "6785    [u.s., said, promised, bulk, maize, export, sp...\n",
       "                              ...                        \n",
       "2530    [holly, sugar, corp, , hly, , set, regular, di...\n",
       "1690    [oregon, lumber, company, sell, wood, iraq, po...\n",
       "6752    [ussr, corn, buying, may, 3.5, mln, tonne, , a...\n",
       "5849    [heavy, rain, argentine, grain, area, , author...\n",
       "309     [fed, expected, add, reserve, new, york, , mar...\n",
       "Name: lemmatized, Length: 9136, dtype: object"
      ]
     },
     "execution_count": 21,
     "metadata": {},
     "output_type": "execute_result"
    }
   ],
   "source": [
    "train_data['lemmatized']"
   ]
  },
  {
   "cell_type": "markdown",
   "metadata": {},
   "source": [
    "## Remove empty elements"
   ]
  },
  {
   "cell_type": "code",
   "execution_count": 22,
   "metadata": {},
   "outputs": [
    {
     "data": {
      "text/plain": [
       "228     [fed, data, indicate, policy, change, likely, ...\n",
       "5020    [volcker, urge, greater, exchange, rate, stabi...\n",
       "7126    [say, new, dow, component, aid, average, new, ...\n",
       "6823    [egypt, reject, veg, oil, offer, retender, lon...\n",
       "6785    [u.s., said, promised, bulk, maize, export, sp...\n",
       "                              ...                        \n",
       "2530    [holly, sugar, corp, hly, set, regular, divide...\n",
       "1690    [oregon, lumber, company, sell, wood, iraq, po...\n",
       "6752    [ussr, corn, buying, may, 3.5, mln, tonne, ams...\n",
       "5849    [heavy, rain, argentine, grain, area, author, ...\n",
       "309     [fed, expected, add, reserve, new, york, march...\n",
       "Name: content_ready, Length: 9136, dtype: object"
      ]
     },
     "execution_count": 22,
     "metadata": {},
     "output_type": "execute_result"
    }
   ],
   "source": [
    "def remove_extra_spaces(lst) -> list:\n",
    "    \"\"\"Remove extra spaces from each string in a list.\n",
    "    \n",
    "    Args:\n",
    "        lst (list): A list of strings to process.\n",
    "    \n",
    "    Returns:\n",
    "        list: A list of strings with extra spaces removed.\n",
    "    \"\"\"\n",
    "    return [element for element in lst if element.strip()]\n",
    "\n",
    "train_data['content_ready'] = train_data['lemmatized'].apply(remove_extra_spaces)\n",
    "train_data['content_ready']"
   ]
  },
  {
   "cell_type": "markdown",
   "metadata": {},
   "source": [
    "## Remove periods elements"
   ]
  },
  {
   "cell_type": "code",
   "execution_count": 23,
   "metadata": {},
   "outputs": [],
   "source": [
    "def remove_periods(words) -> list:\n",
    "    \"\"\"Remove any period element.\n",
    "\n",
    "    Args:\n",
    "        words (list): A list of words.\n",
    "\n",
    "    Returns:\n",
    "        list: A list of words without period elements.\n",
    "    \"\"\"\n",
    "    return [word for word in words if len(word)!=1 and word!='.']\n",
    "\n",
    "train_data['content_ready'] = train_data['content_ready'].apply(remove_periods)"
   ]
  },
  {
   "cell_type": "code",
   "execution_count": 31,
   "metadata": {},
   "outputs": [],
   "source": [
    "train_data.to_csv('../data/train_data_cleaning.csv', columns=['content_ready', 'category'], index=False)"
   ]
  },
  {
   "cell_type": "markdown",
   "metadata": {},
   "source": [
    "# Vocabulary Creation"
   ]
  },
  {
   "cell_type": "code",
   "execution_count": 25,
   "metadata": {},
   "outputs": [
    {
     "name": "stdout",
     "output_type": "stream",
     "text": [
      "Samples: ['fed', 'data', 'indicate', 'policy', 'change', 'likely', 'author', 'martin', 'cherrin', 'reuters', 'author', 'new', 'york', 'march', '12']\n",
      "length of vocabulary: 910916\n"
     ]
    }
   ],
   "source": [
    "vocabulary = [word for sublist in train_data['content_ready'] for word in sublist]\n",
    "print(f\"Samples: {vocabulary[:15]}\\nlength of vocabulary: {len(vocabulary)}\")"
   ]
  },
  {
   "cell_type": "code",
   "execution_count": 26,
   "metadata": {},
   "outputs": [],
   "source": [
    "# Remove duplicates words\n",
    "vocabulary = list(set(vocabulary))"
   ]
  },
  {
   "cell_type": "code",
   "execution_count": 27,
   "metadata": {},
   "outputs": [
    {
     "name": "stdout",
     "output_type": "stream",
     "text": [
      "Samples: ['191.15', 'turner', 'overbuilding', '646.7', 'barometer', 'aprjun', '943938', '3.9375', 'francophone', 'scis', '3288000', 'precise', 'blown', '336', '119967']\n",
      "length of vocabulary: 39400\n"
     ]
    }
   ],
   "source": [
    "print(f\"Samples: {vocabulary[:15]}\\nlength of vocabulary: {len(vocabulary)}\")"
   ]
  },
  {
   "cell_type": "code",
   "execution_count": 28,
   "metadata": {},
   "outputs": [],
   "source": [
    "np.savetxt(\"../data/vocabulary.txt\",\n",
    "           vocabulary,\n",
    "           delimiter = \", \",\n",
    "           fmt = '% s')"
   ]
  },
  {
   "cell_type": "markdown",
   "metadata": {},
   "source": [
    "# Save Testing Data"
   ]
  },
  {
   "cell_type": "code",
   "execution_count": 32,
   "metadata": {},
   "outputs": [],
   "source": [
    "test_data['content']= reorganize_data(test_data['content'])\n",
    "test_data['lowercasing'] = test_data['content'].apply(lowercase_text)\n",
    "test_data['tokenized'] = test_data['lowercasing'].apply(tokenize_text)\n",
    "test_data['clean_special'] = test_data['tokenized'].apply(remove_special_chars)\n",
    "test_data['clean_stopwords'] = test_data['clean_special'].apply(remove_stopword)\n",
    "test_data['lemmatized'] = test_data['clean_stopwords'].apply(lemmatize_sentence)\n",
    "test_data['content_ready'] = test_data['lemmatized'].apply(remove_extra_spaces).apply(remove_periods)"
   ]
  },
  {
   "cell_type": "code",
   "execution_count": 34,
   "metadata": {},
   "outputs": [],
   "source": [
    "test_data.to_csv('../data/test_data_cleaning.csv', columns=['content_ready', 'category'], index=False)"
   ]
  }
 ],
 "metadata": {
  "kernelspec": {
   "display_name": "Python 3",
   "language": "python",
   "name": "python3"
  },
  "language_info": {
   "codemirror_mode": {
    "name": "ipython",
    "version": 3
   },
   "file_extension": ".py",
   "mimetype": "text/x-python",
   "name": "python",
   "nbconvert_exporter": "python",
   "pygments_lexer": "ipython3",
   "version": "3.10.0"
  }
 },
 "nbformat": 4,
 "nbformat_minor": 2
}
